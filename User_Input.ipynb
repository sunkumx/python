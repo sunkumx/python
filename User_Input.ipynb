{
  "nbformat": 4,
  "nbformat_minor": 0,
  "metadata": {
    "colab": {
      "provenance": [],
      "authorship_tag": "ABX9TyPMXtQ2sSiqJHJR8s1CA7Ya",
      "include_colab_link": true
    },
    "kernelspec": {
      "name": "python3",
      "display_name": "Python 3"
    },
    "language_info": {
      "name": "python"
    }
  },
  "cells": [
    {
      "cell_type": "markdown",
      "metadata": {
        "id": "view-in-github",
        "colab_type": "text"
      },
      "source": [
        "<a href=\"https://colab.research.google.com/github/sunkumx/python/blob/main/User_Input.ipynb\" target=\"_parent\"><img src=\"https://colab.research.google.com/assets/colab-badge.svg\" alt=\"Open In Colab\"/></a>"
      ]
    },
    {
      "cell_type": "markdown",
      "source": [
        "**Taking User Input in Python | Python Tutorial - Day #10**\n",
        "\n",
        "Link: [link text](https://www.youtube.com/watch?v=WvG-R-xXouA&list=PLu0W_9lII9agwh1XjRt242xIpHhPT2llg&index=11)\n",
        "\n",
        "by default input() functions takes/input is taken as String. For numbers use typecasting."
      ],
      "metadata": {
        "id": "qrGxq4s9pvdx"
      }
    },
    {
      "cell_type": "code",
      "execution_count": 1,
      "metadata": {
        "colab": {
          "base_uri": "https://localhost:8080/"
        },
        "id": "v0E9ODYVpod7",
        "outputId": "4a03cfc6-3181-497a-c427-a98b9c6a6dd2"
      },
      "outputs": [
        {
          "output_type": "stream",
          "name": "stdout",
          "text": [
            "SK\n",
            "My name is  SK\n"
          ]
        }
      ],
      "source": [
        "a = input()\n",
        "print(\"My name is \",a)"
      ]
    },
    {
      "cell_type": "code",
      "source": [
        "#Without Typecasting;\n",
        "#This is CONCATINATING instead of adding.\n",
        "x = input(\"Enter first number: \")\n",
        "y = input(\"Enter first number: \")\n",
        "print(x+y)"
      ],
      "metadata": {
        "colab": {
          "base_uri": "https://localhost:8080/"
        },
        "id": "9Oph7QSRp4e-",
        "outputId": "82905111-3111-4f4c-c8c4-8c0ee08da24e"
      },
      "execution_count": 2,
      "outputs": [
        {
          "output_type": "stream",
          "name": "stdout",
          "text": [
            "Enter first number: SK\n",
            "Enter first number: SK\n",
            "SKSK\n"
          ]
        }
      ]
    },
    {
      "cell_type": "code",
      "source": [
        "# With Typecasting -- using INT datatype\n",
        "m = input(\"Enter first number: \")\n",
        "n = input(\"Enter first number: \")\n",
        "print(int(m)+int(n))"
      ],
      "metadata": {
        "colab": {
          "base_uri": "https://localhost:8080/"
        },
        "id": "uJUy2J3JqDOZ",
        "outputId": "c98f700c-2f9c-40c3-9468-1f14ee68c822"
      },
      "execution_count": 4,
      "outputs": [
        {
          "output_type": "stream",
          "name": "stdout",
          "text": [
            "Enter first number: 1\n",
            "Enter first number: 1\n",
            "2\n"
          ]
        }
      ]
    }
  ]
}
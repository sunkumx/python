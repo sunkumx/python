{
  "nbformat": 4,
  "nbformat_minor": 0,
  "metadata": {
    "colab": {
      "provenance": [],
      "authorship_tag": "ABX9TyPulj2klEonnjArR90ogzW5",
      "include_colab_link": true
    },
    "kernelspec": {
      "name": "python3",
      "display_name": "Python 3"
    },
    "language_info": {
      "name": "python"
    }
  },
  "cells": [
    {
      "cell_type": "markdown",
      "metadata": {
        "id": "view-in-github",
        "colab_type": "text"
      },
      "source": [
        "<a href=\"https://colab.research.google.com/github/sunkumx/python/blob/main/Strings.ipynb\" target=\"_parent\"><img src=\"https://colab.research.google.com/assets/colab-badge.svg\" alt=\"Open In Colab\"/></a>"
      ]
    },
    {
      "cell_type": "markdown",
      "source": [
        "**Strings in Python | Python Tutorial - Day #11**\n",
        "\n",
        "Link: [Strings](https://www.youtube.com/watch?v=kMNFQYArrLg&list=PLu0W_9lII9agwh1XjRt242xIpHhPT2llg&index=11)"
      ],
      "metadata": {
        "id": "5H8mBsudq0aS"
      }
    },
    {
      "cell_type": "code",
      "execution_count": 1,
      "metadata": {
        "colab": {
          "base_uri": "https://localhost:8080/"
        },
        "id": "3JTK_tJoqQU4",
        "outputId": "3a0f567c-ad4d-4122-cd11-fc7e53600b84"
      },
      "outputs": [
        {
          "output_type": "stream",
          "name": "stdout",
          "text": [
            "Hello, Nana Patekar\n"
          ]
        }
      ],
      "source": [
        "name = \"Raj Kumar\"\n",
        "friendName = \"Nana Patekar\"\n",
        "print(\"Hello,\", friendName)"
      ]
    },
    {
      "cell_type": "code",
      "source": [
        "print(name[0])\n",
        "print(name[1])\n",
        "print(name[2])\n",
        "print(name[3])\n",
        "print(name[4])\n",
        "\n",
        "#this will give out of range Index Range Error\n",
        "print(name[15])"
      ],
      "metadata": {
        "colab": {
          "base_uri": "https://localhost:8080/",
          "height": 262
        },
        "id": "DgyQnzddrFS6",
        "outputId": "126b0de7-540b-4b7b-ce79-abe3f74761be"
      },
      "execution_count": 3,
      "outputs": [
        {
          "output_type": "stream",
          "name": "stdout",
          "text": [
            "R\n",
            "a\n",
            "j\n",
            " \n",
            "K\n"
          ]
        },
        {
          "output_type": "error",
          "ename": "IndexError",
          "evalue": "string index out of range",
          "traceback": [
            "\u001b[0;31m---------------------------------------------------------------------------\u001b[0m",
            "\u001b[0;31mIndexError\u001b[0m                                Traceback (most recent call last)",
            "\u001b[0;32m<ipython-input-3-a0f0735877ae>\u001b[0m in \u001b[0;36m<cell line: 0>\u001b[0;34m()\u001b[0m\n\u001b[1;32m      6\u001b[0m \u001b[0;34m\u001b[0m\u001b[0m\n\u001b[1;32m      7\u001b[0m \u001b[0;31m#this will give out of range Index Range Error\u001b[0m\u001b[0;34m\u001b[0m\u001b[0;34m\u001b[0m\u001b[0m\n\u001b[0;32m----> 8\u001b[0;31m \u001b[0mprint\u001b[0m\u001b[0;34m(\u001b[0m\u001b[0mname\u001b[0m\u001b[0;34m[\u001b[0m\u001b[0;36m15\u001b[0m\u001b[0;34m]\u001b[0m\u001b[0;34m)\u001b[0m\u001b[0;34m\u001b[0m\u001b[0;34m\u001b[0m\u001b[0m\n\u001b[0m",
            "\u001b[0;31mIndexError\u001b[0m: string index out of range"
          ]
        }
      ]
    },
    {
      "cell_type": "code",
      "source": [
        "#With Paragraph + for loop\n",
        "print(\"Using for loop we get this reply:\")\n",
        "paragraph = \"\"\"\n",
        "it is the Pole star. It is named so because it lies directly overhead when viewed from the Earth's North Pole or South Pole.\"\"\"\n",
        "for character in paragraph:\n",
        "  print(character)"
      ],
      "metadata": {
        "colab": {
          "base_uri": "https://localhost:8080/"
        },
        "id": "o51xFqe0rNA-",
        "outputId": "66e6ae53-c436-442a-a43a-e0e81d801dbc"
      },
      "execution_count": 4,
      "outputs": [
        {
          "output_type": "stream",
          "name": "stdout",
          "text": [
            "Using for loop we get this reply:\n",
            " \n",
            "\n",
            "\n",
            "i\n",
            "t\n",
            " \n",
            "i\n",
            "s\n",
            " \n",
            "t\n",
            "h\n",
            "e\n",
            " \n",
            "P\n",
            "o\n",
            "l\n",
            "e\n",
            " \n",
            "s\n",
            "t\n",
            "a\n",
            "r\n",
            ".\n",
            " \n",
            "I\n",
            "t\n",
            " \n",
            "i\n",
            "s\n",
            " \n",
            "n\n",
            "a\n",
            "m\n",
            "e\n",
            "d\n",
            " \n",
            "s\n",
            "o\n",
            " \n",
            "b\n",
            "e\n",
            "c\n",
            "a\n",
            "u\n",
            "s\n",
            "e\n",
            " \n",
            "i\n",
            "t\n",
            " \n",
            "l\n",
            "i\n",
            "e\n",
            "s\n",
            " \n",
            "d\n",
            "i\n",
            "r\n",
            "e\n",
            "c\n",
            "t\n",
            "l\n",
            "y\n",
            " \n",
            "o\n",
            "v\n",
            "e\n",
            "r\n",
            "h\n",
            "e\n",
            "a\n",
            "d\n",
            " \n",
            "w\n",
            "h\n",
            "e\n",
            "n\n",
            " \n",
            "v\n",
            "i\n",
            "e\n",
            "w\n",
            "e\n",
            "d\n",
            " \n",
            "f\n",
            "r\n",
            "o\n",
            "m\n",
            " \n",
            "t\n",
            "h\n",
            "e\n",
            " \n",
            "E\n",
            "a\n",
            "r\n",
            "t\n",
            "h\n",
            "'\n",
            "s\n",
            " \n",
            "N\n",
            "o\n",
            "r\n",
            "t\n",
            "h\n",
            " \n",
            "P\n",
            "o\n",
            "l\n",
            "e\n",
            " \n",
            "o\n",
            "r\n",
            " \n",
            "S\n",
            "o\n",
            "u\n",
            "t\n",
            "h\n",
            " \n",
            "P\n",
            "o\n",
            "l\n",
            "e\n",
            ".\n"
          ]
        }
      ]
    }
  ]
}
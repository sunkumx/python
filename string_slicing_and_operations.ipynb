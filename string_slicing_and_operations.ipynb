{
  "nbformat": 4,
  "nbformat_minor": 0,
  "metadata": {
    "colab": {
      "provenance": [],
      "authorship_tag": "ABX9TyOiLWU6zvA+Uvop7xT3CE3+",
      "include_colab_link": true
    },
    "kernelspec": {
      "name": "python3",
      "display_name": "Python 3"
    },
    "language_info": {
      "name": "python"
    }
  },
  "cells": [
    {
      "cell_type": "markdown",
      "metadata": {
        "id": "view-in-github",
        "colab_type": "text"
      },
      "source": [
        "<a href=\"https://colab.research.google.com/github/sunkumx/python/blob/main/string_slicing_and_operations.ipynb\" target=\"_parent\"><img src=\"https://colab.research.google.com/assets/colab-badge.svg\" alt=\"Open In Colab\"/></a>"
      ]
    },
    {
      "cell_type": "markdown",
      "source": [],
      "metadata": {
        "id": "1jMKEDF71-EV"
      }
    },
    {
      "cell_type": "markdown",
      "source": [
        "**Strings Slicing and Operations on Strings in Python | Python Tutorial - Day #12**\n",
        "\n",
        "Link: [String Slicing & Operations on Strings](https://www.youtube.com/watch?v=8jW7lpT8HW8&list=PLu0W_9lII9agwh1XjRt242xIpHhPT2llg&index=12)"
      ],
      "metadata": {
        "id": "IBs6geRvc0zm"
      }
    },
    {
      "cell_type": "code",
      "source": [
        "#Example 1\n",
        "names = \"Sunil, Santha\"\n",
        "print(names[0:5])"
      ],
      "metadata": {
        "colab": {
          "base_uri": "https://localhost:8080/"
        },
        "id": "ZSXYWjToc767",
        "outputId": "e9a3bbf1-a82f-4c15-e097-107c57782e48"
      },
      "execution_count": 16,
      "outputs": [
        {
          "output_type": "stream",
          "name": "stdout",
          "text": [
            "Sunil\n"
          ]
        }
      ]
    },
    {
      "cell_type": "code",
      "source": [
        "#Example 2\n",
        "fruit = \"Apple\"\n",
        "len1 = len(fruit)\n",
        "print(\"Mango is a\", len1, \"letter word\")"
      ],
      "metadata": {
        "colab": {
          "base_uri": "https://localhost:8080/"
        },
        "id": "IRv2e_I9eaVW",
        "outputId": "a7e683f9-00af-4674-d3e7-90607f22c683"
      },
      "execution_count": 19,
      "outputs": [
        {
          "output_type": "stream",
          "name": "stdout",
          "text": [
            "Mango is a 5 letter word\n"
          ]
        }
      ]
    },
    {
      "cell_type": "code",
      "source": [
        "#Example 3 -- Slicing\n",
        "seasonFruit = \"mango\"\n",
        "lenFruit = len(seasonFruit)\n",
        "print(\"Length of String is\", lenFruit)\n",
        "\n",
        "print(seasonFruit[0:5])\n",
        "print(seasonFruit[1:5])\n",
        "print(seasonFruit[:5])\n",
        "print(seasonFruit[0:-3])\n",
        "print(seasonFruit[:-1])\n",
        "print(seasonFruit[-1:-3])"
      ],
      "metadata": {
        "colab": {
          "base_uri": "https://localhost:8080/"
        },
        "id": "T5147u7yf8ud",
        "outputId": "79989d59-5cfd-4adb-986c-c3f8f5478385"
      },
      "execution_count": 29,
      "outputs": [
        {
          "output_type": "stream",
          "name": "stdout",
          "text": [
            "Length of String is 5\n",
            "mango\n",
            "ango\n",
            "mango\n",
            "ma\n",
            "mang\n",
            "\n"
          ]
        }
      ]
    },
    {
      "cell_type": "code",
      "source": [
        "#Example 4 - Looping through string\n",
        "\n",
        "alphabets = \"ABCDE\"\n",
        "for i in alphabets:\n",
        "  print(i)"
      ],
      "metadata": {
        "colab": {
          "base_uri": "https://localhost:8080/"
        },
        "id": "-NH5vcVThH2i",
        "outputId": "69879009-98f8-4380-d3f5-b87e646e90b1"
      },
      "execution_count": 30,
      "outputs": [
        {
          "output_type": "stream",
          "name": "stdout",
          "text": [
            "A\n",
            "B\n",
            "C\n",
            "D\n",
            "E\n"
          ]
        }
      ]
    },
    {
      "cell_type": "code",
      "source": [
        "#Quiz\n",
        "nm = \"Harry\"\n",
        "print(nm[-4:-2])"
      ],
      "metadata": {
        "colab": {
          "base_uri": "https://localhost:8080/"
        },
        "id": "jFZmUZzvhXtN",
        "outputId": "dc30ea4f-7ba4-4e23-85b1-811d468d4563"
      },
      "execution_count": 31,
      "outputs": [
        {
          "output_type": "stream",
          "name": "stdout",
          "text": [
            "ar\n"
          ]
        }
      ]
    },
    {
      "cell_type": "markdown",
      "source": [
        "**String Methods in Python | Python Tutorial - Day #13**\n",
        "\n",
        "Link: [String Method](https://www.youtube.com/watch?v=0INvoK_T0cE&list=PLu0W_9lII9agwh1XjRt242xIpHhPT2llg&index=13)"
      ],
      "metadata": {
        "id": "29_DRXyXi9D8"
      }
    },
    {
      "cell_type": "markdown",
      "source": [
        "Converting string to Upper, Lowercase etc\n",
        "\n",
        "- Strings are immutable\n",
        "\n",
        "\n",
        "1-- upper()\n",
        "\n",
        "2-- lower()\n",
        "\n",
        "3-- rstrip()\n",
        "\n",
        "4-- replace(\"find\",\"replace\")\n",
        "\n",
        "5-- split (\" \")\n",
        "\n",
        "6-- capitalize()\n",
        "\n",
        "7-- center()\n",
        "\n",
        "8-- count()\n",
        "\n",
        "9-- endswith()\n",
        "\n",
        "10-- find()\n",
        "\n",
        "11-- index()\n",
        "\n",
        "12-- isalnum()\n",
        "\n",
        "13-- isalpha()\n",
        "\n",
        "14-- islower()\n",
        "\n",
        "15-- isprintable()\n",
        "\n",
        "16-- isspace()\n",
        "\n",
        "17-- istitle()\n",
        "\n",
        "18--startswith()\n",
        "\n",
        "19-- swapcase()\n",
        "\n",
        "20-- title()\n"
      ],
      "metadata": {
        "id": "VYUOA2zIjPoI"
      }
    },
    {
      "cell_type": "code",
      "source": [
        "#Example 1\n",
        "a = \"Sunil\"\n",
        "print(len(a))\n",
        "print(a.upper()) # upper case\n",
        "print(a.lower()) # lower case"
      ],
      "metadata": {
        "colab": {
          "base_uri": "https://localhost:8080/"
        },
        "id": "H66NpV2ljF6H",
        "outputId": "dce83e37-203c-4d70-986c-35fb3530a966"
      },
      "execution_count": 33,
      "outputs": [
        {
          "output_type": "stream",
          "name": "stdout",
          "text": [
            "5\n",
            "SUNIL\n",
            "sunil\n"
          ]
        }
      ]
    },
    {
      "cell_type": "code",
      "source": [
        "#Example 2 - Stripping character using RSTRIP function; It strips only trailing character\n",
        "b = \"Sunil !!!!!!\"\n",
        "c = \"!!!!!Sunil!!!!\"\n",
        "print(b.rstrip(\"!\")) #Example for trailing strip\n",
        "print(c.rstrip(\"!\")) #Not stripping before the string"
      ],
      "metadata": {
        "colab": {
          "base_uri": "https://localhost:8080/"
        },
        "id": "GYTBb3xAkckP",
        "outputId": "56febeb3-8b03-4b18-b37b-b0c2842da1c6"
      },
      "execution_count": 35,
      "outputs": [
        {
          "output_type": "stream",
          "name": "stdout",
          "text": [
            "Sunil \n",
            "!!!!!Sunil\n"
          ]
        }
      ]
    },
    {
      "cell_type": "code",
      "source": [
        "#Example 3 - replace()\n",
        "d = \"Harry\"\n",
        "print(d.replace(\"Harry\",\"Sunil\"))"
      ],
      "metadata": {
        "colab": {
          "base_uri": "https://localhost:8080/"
        },
        "id": "R5JSQFrKlKtt",
        "outputId": "e145f5b9-81ed-4197-8604-5cee2df31e86"
      },
      "execution_count": 36,
      "outputs": [
        {
          "output_type": "stream",
          "name": "stdout",
          "text": [
            "Sunil\n"
          ]
        }
      ]
    },
    {
      "cell_type": "code",
      "source": [
        "#Example 4 - slip()\n",
        "e = \"Code With Harry is Amazing\"\n",
        "print(e.split(\" \"))"
      ],
      "metadata": {
        "colab": {
          "base_uri": "https://localhost:8080/"
        },
        "id": "WswQ7QLQlXxM",
        "outputId": "c4542c6f-6471-4249-aba9-df397b4e9b50"
      },
      "execution_count": 37,
      "outputs": [
        {
          "output_type": "stream",
          "name": "stdout",
          "text": [
            "['Code', 'With', 'Harry', 'is', 'Amazing']\n"
          ]
        }
      ]
    },
    {
      "cell_type": "code",
      "source": [
        "#Example 5 - capitalize() - capitalizes the first character of the word\n",
        "example = \"welcome to 100days of python learning\"\n",
        "print(example.capitalize())\n"
      ],
      "metadata": {
        "colab": {
          "base_uri": "https://localhost:8080/"
        },
        "id": "5J2IwzyjnDvE",
        "outputId": "a13f9f75-190a-4fce-8169-29d17c84c4a9"
      },
      "execution_count": 39,
      "outputs": [
        {
          "output_type": "stream",
          "name": "stdout",
          "text": [
            "Welcome to 100days of python learning\n"
          ]
        }
      ]
    },
    {
      "cell_type": "code",
      "source": [
        "#Example 6 - count(): counts no of character in a string\n",
        "print(example.count(\"o\"))"
      ],
      "metadata": {
        "colab": {
          "base_uri": "https://localhost:8080/"
        },
        "id": "DLJASa1hngHn",
        "outputId": "cdfbb003-b745-4cca-ce82-57803e7a8ab2"
      },
      "execution_count": 41,
      "outputs": [
        {
          "output_type": "stream",
          "name": "stdout",
          "text": [
            "4\n"
          ]
        }
      ]
    },
    {
      "cell_type": "code",
      "source": [
        "#Example 7 - isalnum(): checks the alpha numeric\n",
        "str1 = \"WelcomeToPythonTutorial\"\n",
        "print(str1.isalnum())"
      ],
      "metadata": {
        "colab": {
          "base_uri": "https://localhost:8080/"
        },
        "id": "jJ8UJXOys3uQ",
        "outputId": "3e70df09-7820-4427-817e-2d5b6fa5822f"
      },
      "execution_count": 42,
      "outputs": [
        {
          "output_type": "stream",
          "name": "stdout",
          "text": [
            "True\n"
          ]
        }
      ]
    },
    {
      "cell_type": "code",
      "source": [
        "#Example 8 - islower(): return True/False if there are lower\n",
        "print(str1.islower()) #This will return FALSE\n",
        "\n",
        "lower_str = \"welcometopythontutorial\" #This will return TRUE\n",
        "print(lower_str.islower())"
      ],
      "metadata": {
        "colab": {
          "base_uri": "https://localhost:8080/"
        },
        "id": "YEPWqST7yUTc",
        "outputId": "1b1fb661-71e5-48cf-e829-f44f680854ba"
      },
      "execution_count": 46,
      "outputs": [
        {
          "output_type": "stream",
          "name": "stdout",
          "text": [
            "False\n",
            "True\n"
          ]
        }
      ]
    }
  ]
}